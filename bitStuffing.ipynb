{
 "cells": [
  {
   "cell_type": "code",
   "execution_count": 357,
   "metadata": {},
   "outputs": [
    {
     "name": "stdout",
     "output_type": "stream",
     "text": [
      "553\n",
      "POKEMON TOWER DEFENSE\n",
      "YOUR MISSION IN THIS FUN STRATEGY TOWER DEFENSE GAME IS TO HELP\n",
      "PROFESSOR OAK TO STOP ATTACKS OF WILD RATTATA. SET OUT ON YOUR OWN\n",
      "POKEMON JOURNEY, TO CATCH AND TRAIN ALL POKEMON AND TRY TO SOLVE THE\n",
      "MYSTERY BEHIND THESE ATTACKS. YOU MUST PLACE POKEMON CHARACTERS\n",
      "STRATEGICALLY ON THE BATTLEFIELD SO THAT THEY STOP ALL WAVES OF\n",
      "ENEMY ATTACKER!!!\n",
      "DURING THE BATTLE YOU WILL LEVEL UP AND EVOLVE YOUR POKEMON. YOU CAN\n",
      "ALSO CAPTURE OTHER POKEMON DURING THE BATTLE AND ADD THEM TO YOUR\n",
      "TEAM. USE YOUR MOUSE TO PLAY THE GAME.\n",
      "GOOD LUCK!\n",
      "\n"
     ]
    },
    {
     "data": {
      "text/plain": [
       "4293"
      ]
     },
     "execution_count": 357,
     "metadata": {},
     "output_type": "execute_result"
    }
   ],
   "source": [
    "import pandas as pd\n",
    "import numpy as np\n",
    "\n",
    "file = open(\"n2.txt\")\n",
    "\n",
    "line = file.read()\n",
    "file.close()\n",
    "print(len(line))\n",
    "print(line)\n",
    "line=' '.join(format(ord(i), 'b') for i in line)\n",
    "len(line)"
   ]
  },
  {
   "cell_type": "code",
   "execution_count": 358,
   "metadata": {},
   "outputs": [
    {
     "name": "stdout",
     "output_type": "stream",
     "text": [
      "4293\n"
     ]
    },
    {
     "data": {
      "text/plain": [
       "4358"
      ]
     },
     "execution_count": 358,
     "metadata": {},
     "output_type": "execute_result"
    }
   ],
   "source": [
    "#conversion to binary and doing bit stuffing and adding intial and end flags\n",
    "print(len(line))\n",
    "counter=0\n",
    "for i in range( len(line) ):\n",
    "    if(line[i]=='1'):\n",
    "        counter+=1;\n",
    "    if(counter==5):\n",
    "        if(line[i+1]==\" \"):\n",
    "            line=line[:i+2] + '0' + line[i+2:]\n",
    "            i+=2\n",
    "        else:\n",
    "            line=line[:i+1] + '0' + line[i+1:]\n",
    "            i+=1\n",
    "    if(line[i]=='0'):\n",
    "        counter=0;\n",
    "\n",
    "line='01111110'+ line +'01111110'\n",
    "len(line)"
   ]
  },
  {
   "cell_type": "code",
   "execution_count": 359,
   "metadata": {},
   "outputs": [
    {
     "name": "stdout",
     "output_type": "stream",
     "text": [
      "01111110101000010011111000101110001011001101100111110001110100000101010010011111001011110001011010010100000100010010001011000110100010110011101010011100010110101011001100111110010101101001010000010011011001001101001110100111001001100111110001110100000100100110011101000001010100100100010010011010011100000100011010101011001110100000101001110101001010010100000110101001000101100011110110011000001010100100111110010111100010110100101000001000100100010110001101000101100111010100111000101100000100011110000011001101100010110000010010011010011100000101010010011111000000100100010001011001100101000010101010000101001010011111000011010001011010011101001110011111001001010000010011111000000110010111000001010100100111110000001010011101010010011111001000010000010000011010100101010010000011000011100101110100111000001001111100001101000001010111100100110011001000100100000101001010000011010100101010010000011010100100000110111010000010100111000101101010010000010011111001010110101001000001001111100011101000001011001100111110010101101001010000010011111001011110011101010101000010011111000101110001011001101100111110001110100000100101010011111001010110100101001110100010110110011011001000001010100100111110000001000011100000110101001000011100100010000010000011001110100010010000010101001010010100000110010011001110100000100000110011001001100100000101000010011111000101110001011001101100111110001110100000100000110011101000100100000101010010100101011001100000101010010011111000000101001110011111000110010101101000101100000101010010010001000101101010011011011001101001110101001000101101001010110011000001000010100010110010001001001100111010001001000001010100100100010001011010011100010110000010000011010100101010010000011000011100101110100111011101000001011001100111110010101100000100110110101011010011101010010000010100001001100100000110000111000101100000101000010011111000101110001011001101100111110001110100000100001110010001000001101001010000011000011101010010001011010010101001110101010011101010010100101000001101010010001011000111100100110000111000001100110010011001011001100000100111110001110100000101010010010001000101100000100001010000011010100101010010011001000101100011010010011000101100110010001001000001010011100111110000001010100100100010000011010100100000101010010010001000101101100110000010100111010100100111110010000100000100000110011001001100100000101011110000011010110100010110100111000001001111100001101010100010110011101000101100110110110011000001000001101010010101001000001100001110010111000101101001010000110000110000110101000100101010110100101001001100111010001111000001010100100100010001011000001000010100000110101001010100100110010001011000001011001100111110010101100000101011110010011001100100110010000010011001000101101011010001011001100100000101010110100001000001000001100111010001001000001000101101011010011111000110010101101000101100000101100110011111001010110100101000001010000100111110001011100010110011011001111100011101011101000001011001100111110010101100000100001110000011001110101010000011001100101001110011111000000100001110000011010000101010010101011010010100010110000010011111001010010010001000101101001010000010100001001111100010111000101100110110011111000111010000010001001010101101001010010011001110100011110000010101001001000100010110000010000101000001101010010101001001100100010110000010000011001110100010010000010000011000100100010010000010101001001000100010110011011000001010100100111110000001011001100111110010101101001010101010100100010110000011001101101110100000101010110100111000101100000101100110011111001010110100101000001001101100111110010101101001110001011000001010100100111110000001010000100110010000011011001100000101010010010001000101100000100011110000011001101100010110111010101000111100111110001111100001001000001001100101010110000111001011100001101001111110\n"
     ]
    }
   ],
   "source": [
    "#bit stream after bit stuffing and adding intial and end flags\n",
    "print(line.replace(\" \",\"\"))"
   ]
  },
  {
   "cell_type": "code",
   "execution_count": 360,
   "metadata": {},
   "outputs": [],
   "source": [
    "#removing starting and ending flags\n",
    "line=line.replace('01111110','')"
   ]
  },
  {
   "cell_type": "code",
   "execution_count": 361,
   "metadata": {},
   "outputs": [
    {
     "name": "stdout",
     "output_type": "stream",
     "text": [
      "4342\n"
     ]
    }
   ],
   "source": [
    "print(len(line))"
   ]
  },
  {
   "cell_type": "code",
   "execution_count": 362,
   "metadata": {},
   "outputs": [
    {
     "name": "stdout",
     "output_type": "stream",
     "text": [
      "4341\n",
      "4293\n"
     ]
    }
   ],
   "source": [
    "#removing bit stuffing to get original message back\n",
    "counter=0\n",
    "strLength = len(line)-1;\n",
    "print(strLength)\n",
    "for i in range(strLength):\n",
    "    if i>=len(line):\n",
    "        break\n",
    "    if(line[i]=='1'):\n",
    "        counter+=1;\n",
    "    if(counter==5):\n",
    "        if(line[i+1]==\" \"):\n",
    "            line=line[:i+2] + line[i+3:]\n",
    "        else:\n",
    "            line = line[:i+1] + line[i+2:]\n",
    "        counter=0;\n",
    "        strLength -= 1;\n",
    "    if(line[i] =='0'):\n",
    "        counter=0;\n",
    "print(len(line))"
   ]
  },
  {
   "cell_type": "code",
   "execution_count": 363,
   "metadata": {},
   "outputs": [
    {
     "name": "stdout",
     "output_type": "stream",
     "text": [
      "POKEMON TOWER DEFENSE\n",
      "YOUR MISSION IN THIS FUN STRATEGY TOWER DEFENSE GAME IS TO HELP\n",
      "PROFESSOR OAK TO STOP ATTACKS OF WILD RATTATA. SET OUT ON YOUR OWN\n",
      "POKEMON JOURNEY, TO CATCH AND TRAIN ALL POKEMON AND TRY TO SOLVE THE\n",
      "MYSTERY BEHIND THESE ATTACKS. YOU MUST PLACE POKEMON CHARACTERS\n",
      "STRATEGICALLY ON THE BATTLEFIELD SO THAT THEY STOP ALL WAVES OF\n",
      "ENEMY ATTACKER!!!\n",
      "DURING THE BATTLE YOU WILL LEVEL UP AND EVOLVE YOUR POKEMON. YOU CAN\n",
      "ALSO CAPTURE OTHER POKEMON DURING THE BATTLE AND ADD THEM TO YOUR\n",
      "TEAM. USE YOUR MOUSE TO PLAY THE GAME.\n",
      "GOOD LUCK!\n",
      "\n"
     ]
    }
   ],
   "source": [
    "#converting string  back to ascii and then string(characters)\n",
    "ascii_string =\"\"\n",
    "line_spl = line.split(\" \");\n",
    "for binary_value in line_spl:\n",
    "    an_integer = int(binary_value, 2)\n",
    "    ascii_character = chr(int(an_integer))\n",
    "    ascii_string += ascii_character\n",
    "print(ascii_string)"
   ]
  },
  {
   "cell_type": "code",
   "execution_count": 364,
   "metadata": {},
   "outputs": [],
   "source": [
    "#generating output file\n",
    "text_file = open(\"Output.txt\", \"w\")\n",
    "text_file.write(ascii_string)\n",
    "text_file.close()"
   ]
  },
  {
   "cell_type": "code",
   "execution_count": null,
   "metadata": {},
   "outputs": [],
   "source": []
  },
  {
   "cell_type": "code",
   "execution_count": null,
   "metadata": {},
   "outputs": [],
   "source": []
  }
 ],
 "metadata": {
  "kernelspec": {
   "display_name": "Python 3",
   "language": "python",
   "name": "python3"
  },
  "language_info": {
   "codemirror_mode": {
    "name": "ipython",
    "version": 3
   },
   "file_extension": ".py",
   "mimetype": "text/x-python",
   "name": "python",
   "nbconvert_exporter": "python",
   "pygments_lexer": "ipython3",
   "version": "3.8.5"
  }
 },
 "nbformat": 4,
 "nbformat_minor": 4
}
